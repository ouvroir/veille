{
  "nbformat": 4,
  "nbformat_minor": 0,
  "metadata": {
    "colab": {
      "provenance": []
    },
    "kernelspec": {
      "name": "python3",
      "display_name": "Python 3"
    },
    "language_info": {
      "name": "python"
    }
  },
  "cells": [
    {
      "cell_type": "code",
      "execution_count": 24,
      "metadata": {
        "id": "6hzPrijuMdZk"
      },
      "outputs": [],
      "source": [
        "# URL extraites avec des regex toutes bêtes\n",
        "URL = [\n",
        "\"\"\"<idno type=\"orcid\"></idno>\"\"\",\n",
        "\"\"\"<idno type=\"twitter\">@chiara_bonacchi</idno>\"\"\",\n",
        "\"\"\"<idno type=\"orcid\">0000-0002-0872-0614</idno>\"\"\",\n",
        "\"\"\"<idno type=\"email\">chiara.bonacchi@stir.ac.uk</idno>\"\"\",\n",
        "\"\"\"<idno type=\"academic\">https://www.stir.ac.uk/people/482880</idno>\"\"\",\n",
        "\"\"\"<idno type=\"email\">xrubio@ub.edu</idno>\"\"\",\n",
        "\"\"\"<idno type=\"twitter\">@xrubiocampillo</idno>\"\"\",\n",
        "\"\"\"<idno type=\"isni\">0000-0003-4428-4335</idno>\"\"\",\n",
        "\"\"\"<idno type=\"github\">https://github.com/xrubio/</idno>\"\"\",\n",
        "\"\"\"<idno type=\"lab\">https://www.didpatri.cat/investigadors/xavier-rubio-campillo/</idno>\"\"\",\n",
        "\"\"\"<idno type=\"perso\">https://saranabil.com</idno>\"\"\",\n",
        "\"\"\"<idno type=\"academic\">https://ampd.yorku.ca/profile/caitlin-fisher/</idno>\"\"\",\n",
        "\"\"\"<idno type=\"perso\">http://www.yorku.ca/caitlin</idno>\"\"\",\n",
        "\"\"\"<idno type=\"twitter\">@AnneLuthera</idno>\"\"\",\n",
        "\"\"\"<idno type=\"perso\">https://anneluther.info</idno>\"\"\",\n",
        "\"\"\"<idno type=\"perso\">https://timsherratt.org</idno>\"\"\",\n",
        "\"\"\"<idno type=\"linkedin\">https://www.linkedin.com/in/sophie-balcon-fourmaux-35835a13b/?originalSubdomain=fr</idno>\"\"\",\n",
        "\"\"\"<idno type=\"lab\">https://www.lerass.com/author/esandri/</idno>\"\"\",\n",
        "\"\"\"<idno type=\"perso\">https://stuart-james.com</idno>\"\"\",\n",
        "\"\"\"<idno type=\"perso\">https://www.amandawasielewski.com</idno>\"\"\",\n",
        "\"\"\"<idno type=\"perso\">https://anneluther.info</idno>\"\"\",\n",
        "\"\"\"<idno type=\"academic\">https://www.uni-marburg.de/de/fb09/khi/institut/lehrende-seiten-und-bilder/prof-dr-peter-bell</idno>\"\"\",\n",
        "\"\"\"<idno type=\"uri\">https://www.cdh.cam.ac.uk/about/people/dr-leonardo-impett/</idno>\"\"\",\n",
        "\"\"\"<idno type=\"lab\">https://www.crassh.cam.ac.uk/about/people/leonardo-impett/</idno>\"\"\",\n",
        "\"\"\"<idno type=\"uri\">http://www.celsa.fr/celsa-equipe-pedagogique-FC.php</idno>\"\"\",\n",
        "\"\"\"<idno type=\"blog\">https://imanum.hypotheses.org</idno>\"\"\",\n",
        "\"\"\"<idno type=\"twitter\">@theheritagelab</idno>\"\"\",\n",
        "\"\"\"<idno type=\"uri\">https://www.theheritagelab.in</idno>\"\"\",\n",
        "\"\"\"<idno type=\"uri\">https://glam3d.org</idno>\"\"\",\n",
        "\"\"\"<idno type=\"uri\">https://lowtechlab.org</idno>\"\"\",\n",
        "\"\"\"<idno type=\"uri\">http://hennessy.iat.sfu.ca/mcl/</idno>\"\"\",\n",
        "\"\"\"<idno type=\"uri\">https://dahvc.org</idno>\"\"\",\n",
        "\"\"\"<idno type=\"uri\">https://alexandriaarchive.org</idno>\"\"\",\n",
        "\"\"\"<idno type=\"uri\">http://humanitiesdata.ca</idno>\"\"\",\n",
        "\"\"\"<idno type=\"uri\">https://etcl.uvic.ca</idno>\"\"\",\n",
        "\"\"\"<idno type=\"uri\">https://www.ryerson.ca/cdh/</idno>\"\"\",\n",
        "\"\"\"<idno type=\"uri\">https://www.crihn.org/</idno>\"\"\",\n",
        "\"\"\"<idno type=\"uri\">https://www.uoguelph.ca/arts/dhguelph/thinc</idno>\"\"\",\n",
        "\"\"\"<idno type=\"uri\">https://www.nanohistory.org</idno>\"\"\",\n",
        "\"\"\"<idno type=\"uri\">https://www.centreforthestudyof.net</idno>\"\"\",\n",
        "\"\"\"<idno type=\"uri\">https://www.museum4punkt0.de</idno>\"\"\",\n",
        "\"\"\"<idno type=\"uri\">http://amplab.ok.ubc.ca</idno>\"\"\",\n",
        "\"\"\"<idno type=\"uri\">https://metadataculture.se</idno>\"\"\",\n",
        "\"\"\"<idno type=\"uri\">https://www.institutefordigitalheritage.org</idno>\"\"\",\n",
        "\"\"\"<url>https://www.theheritagelab.in/embrace-digital/</url>\"\"\",\n",
        "\"\"\"<url>https://www.jackiepeterson-exhibitservices.com/new-blog</url>\"\"\",\n",
        "\"\"\"<url>https://mediamusea.com</url>\"\"\",\n",
        "\"\"\"<url>https://medium.com/open-glam</url>\"\"\",\n",
        "\"\"\"<url>https://douglasmccarthy.com</url>\"\"\",\n",
        "\"\"\"<url>http://emily-kotecki.com</url>\"\"\",\n",
        "\"\"\"<url>https://kovenjsmith.com</url>\"\"\",\n",
        "\"\"\"<url>https://thesciencemuseum.github.io/heritageconnector/</url>\"\"\",\n",
        "\"\"\"<url>https://dariorodighiero.com</url>\"\"\",\n",
        "\"\"\"<url>https://miscellaneousmuseology.wordpress.com</url>\"\"\",\n",
        "\"\"\"<url>https://solvetasksaturation.wordpress.com</url>\"\"\",\n",
        "# cette URL pose un problème et fait planter requests malgré le mécanisme de session!\n",
        "#\"\"\"<url>https://response.oaag.org</url>\"\"\",\n",
        "\"\"\"<url>http://nimbuspin.com/blog/</url>\"\"\",\n",
        "\"\"\"<url>https://www.chrisunitt.co.uk</url>\"\"\",\n",
        "\"\"\"<url>https://blog.sebastienmagro.net</url>\"\"\",\n",
        "\"\"\"<url>https://www.aaronland.info</url>\"\"\",\n",
        "\"\"\"<url>https://thesciencemuseum.github.io/heritageconnector/</url>\"\"\",\n",
        "\"\"\"<url>https://carnet.fabriquedunumerique.org/</url>\"\"\",\n",
        "\"\"\"<url>https://www.patrimoine-et-numerique.fr</url>\"\"\",\n",
        "\"\"\"<url>https://floorkoeleman.tumblr.com</url>\"\"\",\n",
        "\"\"\"<url>http://zone47.com/dozo/</url>\"\"\",\n",
        "\"\"\"<url>https://medium.com/open-glam/survey/home</url>\"\"\",\n",
        "\"\"\"<url>https://michaelweinberg.org/blog/</url>\"\"\",\n",
        "\"\"\"<url>https://douglasmccarthy.com</url>\"\"\",\n",
        "\"\"\"<url>https://blog.cogapp.com</url>\"\"\",\n",
        "\"\"\"<url>https://julsraemy.ch</url>\"\"\",\n",
        "\"\"\"<url>https://heritagetribune.eu/tags/digitalisationanddigitisation/</url>\"\"\",\n",
        "\"\"\"<url>https://www.machinelearningforscience.de/en/</url>\"\"\",\n",
        "\"\"\"<url>https://www.michaelgeist.ca</url>\"\"\",\n",
        "\"\"\"<url>https://scinfolex.com</url>\"\"\",\n",
        "\"\"\"<url>https://gallica.bnf.fr/blog</url>\"\"\",\n",
        "\"\"\"<rss>https://thesciencemuseum.github.io/heritageconnector/feed.xml</rss>\"\"\"]"
      ]
    },
    {
      "cell_type": "code",
      "source": [
        "import lxml.etree as ET\n",
        "import requests"
      ],
      "metadata": {
        "id": "GMApX5iTMtQG"
      },
      "execution_count": 25,
      "outputs": []
    },
    {
      "cell_type": "code",
      "source": [
        "# from https://stackoverflow.com/questions/23013220/max-retries-exceeded-with-url-in-requests\n",
        "\n",
        "from requests.adapters import HTTPAdapter\n",
        "from urllib3.util.retry import Retry\n",
        "\n",
        "\n",
        "session = requests.Session()\n",
        "retry = Retry(connect=3, backoff_factor=0.5)\n",
        "adapter = HTTPAdapter(max_retries=retry)\n",
        "session.mount('http://', adapter)\n",
        "session.mount('https://', adapter)"
      ],
      "metadata": {
        "id": "rZHO5fO4ROG1"
      },
      "execution_count": 26,
      "outputs": []
    },
    {
      "cell_type": "code",
      "source": [
        "idno_not_url = [\"twitter\", \"isni\", \"orcid\", \"email\", \"linkedin\"]\n",
        "\n",
        "ignored_urls = []\n",
        "valid_urls = []\n",
        "invalid_urls = []\n",
        "\n",
        "for elem in URL:\n",
        "    doc = ET.fromstring(elem)\n",
        "    if doc.tag == \"idno\":\n",
        "        if doc.attrib[\"type\"] in idno_not_url:\n",
        "            url = None\n",
        "            #print(\"Not an URL: \", doc.text)\n",
        "            ignored_urls.append(doc.text)\n",
        "        else:\n",
        "            url = doc.text\n",
        "    elif doc.tag == \"rss\":\n",
        "        url = None\n",
        "        ignored_urls.append(doc.text)\n",
        "    else:\n",
        "        url = doc.text\n",
        "\n",
        "    if url:\n",
        "        r = session.get(url)\n",
        "        print(r.status_code, url, sep=\" ... \")\n",
        "        if str(r.status_code) != \"200\":\n",
        "            invalid_urls.append(url)\n",
        "        else:\n",
        "            valid_urls.append(url)\n"
      ],
      "metadata": {
        "colab": {
          "base_uri": "https://localhost:8080/"
        },
        "id": "RBy5ykm9ODB9",
        "outputId": "2e9a33e7-2934-4078-a977-70a5ab162bb4"
      },
      "execution_count": 27,
      "outputs": [
        {
          "output_type": "stream",
          "name": "stdout",
          "text": [
            "404 ... https://www.stir.ac.uk/people/482880\n",
            "200 ... https://github.com/xrubio/\n",
            "200 ... https://www.didpatri.cat/investigadors/xavier-rubio-campillo/\n",
            "200 ... https://saranabil.com\n",
            "200 ... https://ampd.yorku.ca/profile/caitlin-fisher/\n",
            "200 ... http://www.yorku.ca/caitlin\n",
            "200 ... https://anneluther.info\n",
            "200 ... https://timsherratt.org\n",
            "200 ... https://www.lerass.com/author/esandri/\n",
            "200 ... https://stuart-james.com\n",
            "200 ... https://www.amandawasielewski.com\n",
            "200 ... https://anneluther.info\n",
            "200 ... https://www.uni-marburg.de/de/fb09/khi/institut/lehrende-seiten-und-bilder/prof-dr-peter-bell\n",
            "200 ... https://www.cdh.cam.ac.uk/about/people/dr-leonardo-impett/\n",
            "200 ... https://www.crassh.cam.ac.uk/about/people/leonardo-impett/\n",
            "200 ... http://www.celsa.fr/celsa-equipe-pedagogique-FC.php\n",
            "200 ... https://imanum.hypotheses.org\n",
            "200 ... https://www.theheritagelab.in\n",
            "200 ... https://glam3d.org\n",
            "200 ... https://lowtechlab.org\n",
            "200 ... http://hennessy.iat.sfu.ca/mcl/\n",
            "200 ... https://dahvc.org\n",
            "200 ... https://alexandriaarchive.org\n",
            "200 ... http://humanitiesdata.ca\n",
            "403 ... https://etcl.uvic.ca\n",
            "404 ... https://www.ryerson.ca/cdh/\n",
            "200 ... https://www.crihn.org/\n",
            "200 ... https://www.uoguelph.ca/arts/dhguelph/thinc\n",
            "200 ... https://www.nanohistory.org\n",
            "200 ... https://www.centreforthestudyof.net\n",
            "200 ... https://www.museum4punkt0.de\n",
            "200 ... http://amplab.ok.ubc.ca\n",
            "555 ... https://metadataculture.se\n",
            "200 ... https://www.institutefordigitalheritage.org\n",
            "403 ... https://www.theheritagelab.in/embrace-digital/\n",
            "200 ... https://www.jackiepeterson-exhibitservices.com/new-blog\n",
            "200 ... https://mediamusea.com\n",
            "200 ... https://medium.com/open-glam\n",
            "200 ... https://douglasmccarthy.com\n",
            "200 ... http://emily-kotecki.com\n",
            "200 ... https://kovenjsmith.com\n",
            "200 ... https://thesciencemuseum.github.io/heritageconnector/\n",
            "200 ... https://dariorodighiero.com\n",
            "200 ... https://miscellaneousmuseology.wordpress.com\n",
            "200 ... https://solvetasksaturation.wordpress.com\n",
            "200 ... http://nimbuspin.com/blog/\n",
            "200 ... https://www.chrisunitt.co.uk\n",
            "200 ... https://blog.sebastienmagro.net\n",
            "200 ... https://www.aaronland.info\n",
            "200 ... https://thesciencemuseum.github.io/heritageconnector/\n",
            "200 ... https://carnet.fabriquedunumerique.org/\n",
            "200 ... https://www.patrimoine-et-numerique.fr\n",
            "200 ... https://floorkoeleman.tumblr.com\n",
            "200 ... http://zone47.com/dozo/\n",
            "200 ... https://medium.com/open-glam/survey/home\n",
            "404 ... https://michaelweinberg.org/blog/\n",
            "200 ... https://douglasmccarthy.com\n",
            "200 ... https://blog.cogapp.com\n",
            "200 ... https://julsraemy.ch\n",
            "200 ... https://heritagetribune.eu/tags/digitalisationanddigitisation/\n",
            "200 ... https://www.machinelearningforscience.de/en/\n",
            "200 ... https://www.michaelgeist.ca\n",
            "200 ... https://scinfolex.com\n",
            "200 ... https://gallica.bnf.fr/blog\n"
          ]
        }
      ]
    },
    {
      "cell_type": "markdown",
      "source": [
        "## Résulats"
      ],
      "metadata": {
        "id": "hpLyqzZ7U-c_"
      }
    },
    {
      "cell_type": "code",
      "source": [
        "valid_urls"
      ],
      "metadata": {
        "colab": {
          "base_uri": "https://localhost:8080/"
        },
        "id": "Lh0YSkr8UuVR",
        "outputId": "0dc4e8d0-c54d-4cd7-f8f1-beb7a4cc2c42"
      },
      "execution_count": 29,
      "outputs": [
        {
          "output_type": "execute_result",
          "data": {
            "text/plain": [
              "['https://github.com/xrubio/',\n",
              " 'https://www.didpatri.cat/investigadors/xavier-rubio-campillo/',\n",
              " 'https://saranabil.com',\n",
              " 'https://ampd.yorku.ca/profile/caitlin-fisher/',\n",
              " 'http://www.yorku.ca/caitlin',\n",
              " 'https://anneluther.info',\n",
              " 'https://timsherratt.org',\n",
              " 'https://www.lerass.com/author/esandri/',\n",
              " 'https://stuart-james.com',\n",
              " 'https://www.amandawasielewski.com',\n",
              " 'https://anneluther.info',\n",
              " 'https://www.uni-marburg.de/de/fb09/khi/institut/lehrende-seiten-und-bilder/prof-dr-peter-bell',\n",
              " 'https://www.cdh.cam.ac.uk/about/people/dr-leonardo-impett/',\n",
              " 'https://www.crassh.cam.ac.uk/about/people/leonardo-impett/',\n",
              " 'http://www.celsa.fr/celsa-equipe-pedagogique-FC.php',\n",
              " 'https://imanum.hypotheses.org',\n",
              " 'https://www.theheritagelab.in',\n",
              " 'https://glam3d.org',\n",
              " 'https://lowtechlab.org',\n",
              " 'http://hennessy.iat.sfu.ca/mcl/',\n",
              " 'https://dahvc.org',\n",
              " 'https://alexandriaarchive.org',\n",
              " 'http://humanitiesdata.ca',\n",
              " 'https://www.crihn.org/',\n",
              " 'https://www.uoguelph.ca/arts/dhguelph/thinc',\n",
              " 'https://www.nanohistory.org',\n",
              " 'https://www.centreforthestudyof.net',\n",
              " 'https://www.museum4punkt0.de',\n",
              " 'http://amplab.ok.ubc.ca',\n",
              " 'https://www.institutefordigitalheritage.org',\n",
              " 'https://www.jackiepeterson-exhibitservices.com/new-blog',\n",
              " 'https://mediamusea.com',\n",
              " 'https://medium.com/open-glam',\n",
              " 'https://douglasmccarthy.com',\n",
              " 'http://emily-kotecki.com',\n",
              " 'https://kovenjsmith.com',\n",
              " 'https://thesciencemuseum.github.io/heritageconnector/',\n",
              " 'https://dariorodighiero.com',\n",
              " 'https://miscellaneousmuseology.wordpress.com',\n",
              " 'https://solvetasksaturation.wordpress.com',\n",
              " 'http://nimbuspin.com/blog/',\n",
              " 'https://www.chrisunitt.co.uk',\n",
              " 'https://blog.sebastienmagro.net',\n",
              " 'https://www.aaronland.info',\n",
              " 'https://thesciencemuseum.github.io/heritageconnector/',\n",
              " 'https://carnet.fabriquedunumerique.org/',\n",
              " 'https://www.patrimoine-et-numerique.fr',\n",
              " 'https://floorkoeleman.tumblr.com',\n",
              " 'http://zone47.com/dozo/',\n",
              " 'https://medium.com/open-glam/survey/home',\n",
              " 'https://douglasmccarthy.com',\n",
              " 'https://blog.cogapp.com',\n",
              " 'https://julsraemy.ch',\n",
              " 'https://heritagetribune.eu/tags/digitalisationanddigitisation/',\n",
              " 'https://www.machinelearningforscience.de/en/',\n",
              " 'https://www.michaelgeist.ca',\n",
              " 'https://scinfolex.com',\n",
              " 'https://gallica.bnf.fr/blog']"
            ]
          },
          "metadata": {},
          "execution_count": 29
        }
      ]
    },
    {
      "cell_type": "code",
      "source": [
        "invalid_urls.append(\"https://response.oaag.org\")\n",
        "invalid_urls"
      ],
      "metadata": {
        "colab": {
          "base_uri": "https://localhost:8080/"
        },
        "id": "vtlWk95yUxwM",
        "outputId": "6b12e4f7-a8ad-4373-b0e7-10b437a6af73"
      },
      "execution_count": 31,
      "outputs": [
        {
          "output_type": "execute_result",
          "data": {
            "text/plain": [
              "['https://www.stir.ac.uk/people/482880',\n",
              " 'https://etcl.uvic.ca',\n",
              " 'https://www.ryerson.ca/cdh/',\n",
              " 'https://metadataculture.se',\n",
              " 'https://www.theheritagelab.in/embrace-digital/',\n",
              " 'https://michaelweinberg.org/blog/',\n",
              " 'https://response.oaag.org']"
            ]
          },
          "metadata": {},
          "execution_count": 31
        }
      ]
    },
    {
      "cell_type": "code",
      "source": [],
      "metadata": {
        "id": "wxKPE4V2TVRT"
      },
      "execution_count": null,
      "outputs": []
    }
  ]
}